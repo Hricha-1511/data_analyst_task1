{
 "cells": [
  {
   "cell_type": "code",
   "execution_count": 1,
   "id": "b0cb82fa",
   "metadata": {},
   "outputs": [],
   "source": [
    "import pandas as pd"
   ]
  },
  {
   "cell_type": "code",
   "execution_count": 2,
   "id": "e73a45d5",
   "metadata": {},
   "outputs": [
    {
     "data": {
      "text/html": [
       "<div>\n",
       "<style scoped>\n",
       "    .dataframe tbody tr th:only-of-type {\n",
       "        vertical-align: middle;\n",
       "    }\n",
       "\n",
       "    .dataframe tbody tr th {\n",
       "        vertical-align: top;\n",
       "    }\n",
       "\n",
       "    .dataframe thead th {\n",
       "        text-align: right;\n",
       "    }\n",
       "</style>\n",
       "<table border=\"1\" class=\"dataframe\">\n",
       "  <thead>\n",
       "    <tr style=\"text-align: right;\">\n",
       "      <th></th>\n",
       "      <th>Ticker</th>\n",
       "      <th>Entry Time</th>\n",
       "      <th>Entry Price</th>\n",
       "      <th>Exit Time</th>\n",
       "      <th>Exit Price</th>\n",
       "    </tr>\n",
       "  </thead>\n",
       "  <tbody>\n",
       "    <tr>\n",
       "      <th>1</th>\n",
       "      <td>BANKNIFTY09JUL2022800PE</td>\n",
       "      <td>08-07-2020 09:29</td>\n",
       "      <td>163.50</td>\n",
       "      <td>08-07-2020 13:15</td>\n",
       "      <td>301.00</td>\n",
       "    </tr>\n",
       "    <tr>\n",
       "      <th>2</th>\n",
       "      <td>BANKNIFTY09JUL2022700CE</td>\n",
       "      <td>09-07-2020 09:29</td>\n",
       "      <td>162.50</td>\n",
       "      <td>09-07-2020 10:34</td>\n",
       "      <td>166.75</td>\n",
       "    </tr>\n",
       "    <tr>\n",
       "      <th>3</th>\n",
       "      <td>BANKNIFTY09JUL2022700PE</td>\n",
       "      <td>09-07-2020 09:29</td>\n",
       "      <td>110.55</td>\n",
       "      <td>09-07-2020 10:34</td>\n",
       "      <td>147.00</td>\n",
       "    </tr>\n",
       "    <tr>\n",
       "      <th>4</th>\n",
       "      <td>BANKNIFTY16JUL2022700CE</td>\n",
       "      <td>10-07-2020 09:29</td>\n",
       "      <td>295.10</td>\n",
       "      <td>10-07-2020 15:24</td>\n",
       "      <td>437.55</td>\n",
       "    </tr>\n",
       "    <tr>\n",
       "      <th>5</th>\n",
       "      <td>BANKNIFTY16JUL2022700PE</td>\n",
       "      <td>10-07-2020 09:29</td>\n",
       "      <td>555.20</td>\n",
       "      <td>10-07-2020 15:24</td>\n",
       "      <td>403.15</td>\n",
       "    </tr>\n",
       "    <tr>\n",
       "      <th>...</th>\n",
       "      <td>...</td>\n",
       "      <td>...</td>\n",
       "      <td>...</td>\n",
       "      <td>...</td>\n",
       "      <td>...</td>\n",
       "    </tr>\n",
       "    <tr>\n",
       "      <th>245</th>\n",
       "      <td>BANKNIFTY31DEC2031300PE</td>\n",
       "      <td>29-12-2020 09:29</td>\n",
       "      <td>216.65</td>\n",
       "      <td>29-12-2020 13:10</td>\n",
       "      <td>274.60</td>\n",
       "    </tr>\n",
       "    <tr>\n",
       "      <th>246</th>\n",
       "      <td>BANKNIFTY31DEC2031200CE</td>\n",
       "      <td>30-12-2020 09:29</td>\n",
       "      <td>248.25</td>\n",
       "      <td>30-12-2020 10:24</td>\n",
       "      <td>283.90</td>\n",
       "    </tr>\n",
       "    <tr>\n",
       "      <th>247</th>\n",
       "      <td>BANKNIFTY31DEC2031200PE</td>\n",
       "      <td>30-12-2020 09:29</td>\n",
       "      <td>221.70</td>\n",
       "      <td>30-12-2020 10:24</td>\n",
       "      <td>240.10</td>\n",
       "    </tr>\n",
       "    <tr>\n",
       "      <th>248</th>\n",
       "      <td>BANKNIFTY31DEC2031300CE</td>\n",
       "      <td>31-12-2020 09:29</td>\n",
       "      <td>161.80</td>\n",
       "      <td>31-12-2020 10:37</td>\n",
       "      <td>173.85</td>\n",
       "    </tr>\n",
       "    <tr>\n",
       "      <th>249</th>\n",
       "      <td>BANKNIFTY31DEC2031300PE</td>\n",
       "      <td>31-12-2020 09:29</td>\n",
       "      <td>105.05</td>\n",
       "      <td>31-12-2020 10:37</td>\n",
       "      <td>124.00</td>\n",
       "    </tr>\n",
       "  </tbody>\n",
       "</table>\n",
       "<p>249 rows × 5 columns</p>\n",
       "</div>"
      ],
      "text/plain": [
       "                      Ticker        Entry Time  Entry Price         Exit Time  \\\n",
       "1    BANKNIFTY09JUL2022800PE  08-07-2020 09:29       163.50  08-07-2020 13:15   \n",
       "2    BANKNIFTY09JUL2022700CE  09-07-2020 09:29       162.50  09-07-2020 10:34   \n",
       "3    BANKNIFTY09JUL2022700PE  09-07-2020 09:29       110.55  09-07-2020 10:34   \n",
       "4    BANKNIFTY16JUL2022700CE  10-07-2020 09:29       295.10  10-07-2020 15:24   \n",
       "5    BANKNIFTY16JUL2022700PE  10-07-2020 09:29       555.20  10-07-2020 15:24   \n",
       "..                       ...               ...          ...               ...   \n",
       "245  BANKNIFTY31DEC2031300PE  29-12-2020 09:29       216.65  29-12-2020 13:10   \n",
       "246  BANKNIFTY31DEC2031200CE  30-12-2020 09:29       248.25  30-12-2020 10:24   \n",
       "247  BANKNIFTY31DEC2031200PE  30-12-2020 09:29       221.70  30-12-2020 10:24   \n",
       "248  BANKNIFTY31DEC2031300CE  31-12-2020 09:29       161.80  31-12-2020 10:37   \n",
       "249  BANKNIFTY31DEC2031300PE  31-12-2020 09:29       105.05  31-12-2020 10:37   \n",
       "\n",
       "     Exit Price  \n",
       "1        301.00  \n",
       "2        166.75  \n",
       "3        147.00  \n",
       "4        437.55  \n",
       "5        403.15  \n",
       "..          ...  \n",
       "245      274.60  \n",
       "246      283.90  \n",
       "247      240.10  \n",
       "248      173.85  \n",
       "249      124.00  \n",
       "\n",
       "[249 rows x 5 columns]"
      ]
     },
     "execution_count": 2,
     "metadata": {},
     "output_type": "execute_result"
    }
   ],
   "source": [
    "df = pd.read_csv('tradelog.csv',index_col=[0] )\n",
    "df"
   ]
  },
  {
   "cell_type": "code",
   "execution_count": 3,
   "id": "54c12ccd",
   "metadata": {},
   "outputs": [
    {
     "name": "stdout",
     "output_type": "stream",
     "text": [
      "<class 'pandas.core.frame.DataFrame'>\n",
      "Int64Index: 249 entries, 1 to 249\n",
      "Data columns (total 5 columns):\n",
      " #   Column       Non-Null Count  Dtype  \n",
      "---  ------       --------------  -----  \n",
      " 0   Ticker       249 non-null    object \n",
      " 1   Entry Time   249 non-null    object \n",
      " 2   Entry Price  249 non-null    float64\n",
      " 3   Exit Time    249 non-null    object \n",
      " 4   Exit Price   249 non-null    float64\n",
      "dtypes: float64(2), object(3)\n",
      "memory usage: 11.7+ KB\n"
     ]
    }
   ],
   "source": [
    "df.info()"
   ]
  },
  {
   "cell_type": "code",
   "execution_count": 4,
   "id": "24a16fc5",
   "metadata": {},
   "outputs": [
    {
     "data": {
      "text/plain": [
       "Ticker         0\n",
       "Entry Time     0\n",
       "Entry Price    0\n",
       "Exit Time      0\n",
       "Exit Price     0\n",
       "dtype: int64"
      ]
     },
     "execution_count": 4,
     "metadata": {},
     "output_type": "execute_result"
    }
   ],
   "source": [
    "df.isnull().sum()"
   ]
  },
  {
   "cell_type": "code",
   "execution_count": 5,
   "id": "34268e58",
   "metadata": {},
   "outputs": [
    {
     "data": {
      "text/html": [
       "<div>\n",
       "<style scoped>\n",
       "    .dataframe tbody tr th:only-of-type {\n",
       "        vertical-align: middle;\n",
       "    }\n",
       "\n",
       "    .dataframe tbody tr th {\n",
       "        vertical-align: top;\n",
       "    }\n",
       "\n",
       "    .dataframe thead th {\n",
       "        text-align: right;\n",
       "    }\n",
       "</style>\n",
       "<table border=\"1\" class=\"dataframe\">\n",
       "  <thead>\n",
       "    <tr style=\"text-align: right;\">\n",
       "      <th></th>\n",
       "      <th>Ticker</th>\n",
       "      <th>Entry Time</th>\n",
       "      <th>Entry Price</th>\n",
       "      <th>Exit Time</th>\n",
       "      <th>Exit Price</th>\n",
       "    </tr>\n",
       "  </thead>\n",
       "  <tbody>\n",
       "    <tr>\n",
       "      <th>1</th>\n",
       "      <td>BANKNIFTY09JUL2022800PE</td>\n",
       "      <td>2020-08-07 09:29:00</td>\n",
       "      <td>163.50</td>\n",
       "      <td>2020-08-07 13:15:00</td>\n",
       "      <td>301.00</td>\n",
       "    </tr>\n",
       "    <tr>\n",
       "      <th>2</th>\n",
       "      <td>BANKNIFTY09JUL2022700CE</td>\n",
       "      <td>2020-09-07 09:29:00</td>\n",
       "      <td>162.50</td>\n",
       "      <td>2020-09-07 10:34:00</td>\n",
       "      <td>166.75</td>\n",
       "    </tr>\n",
       "    <tr>\n",
       "      <th>3</th>\n",
       "      <td>BANKNIFTY09JUL2022700PE</td>\n",
       "      <td>2020-09-07 09:29:00</td>\n",
       "      <td>110.55</td>\n",
       "      <td>2020-09-07 10:34:00</td>\n",
       "      <td>147.00</td>\n",
       "    </tr>\n",
       "    <tr>\n",
       "      <th>4</th>\n",
       "      <td>BANKNIFTY16JUL2022700CE</td>\n",
       "      <td>2020-10-07 09:29:00</td>\n",
       "      <td>295.10</td>\n",
       "      <td>2020-10-07 15:24:00</td>\n",
       "      <td>437.55</td>\n",
       "    </tr>\n",
       "    <tr>\n",
       "      <th>5</th>\n",
       "      <td>BANKNIFTY16JUL2022700PE</td>\n",
       "      <td>2020-10-07 09:29:00</td>\n",
       "      <td>555.20</td>\n",
       "      <td>2020-10-07 15:24:00</td>\n",
       "      <td>403.15</td>\n",
       "    </tr>\n",
       "    <tr>\n",
       "      <th>...</th>\n",
       "      <td>...</td>\n",
       "      <td>...</td>\n",
       "      <td>...</td>\n",
       "      <td>...</td>\n",
       "      <td>...</td>\n",
       "    </tr>\n",
       "    <tr>\n",
       "      <th>245</th>\n",
       "      <td>BANKNIFTY31DEC2031300PE</td>\n",
       "      <td>2020-12-29 09:29:00</td>\n",
       "      <td>216.65</td>\n",
       "      <td>2020-12-29 13:10:00</td>\n",
       "      <td>274.60</td>\n",
       "    </tr>\n",
       "    <tr>\n",
       "      <th>246</th>\n",
       "      <td>BANKNIFTY31DEC2031200CE</td>\n",
       "      <td>2020-12-30 09:29:00</td>\n",
       "      <td>248.25</td>\n",
       "      <td>2020-12-30 10:24:00</td>\n",
       "      <td>283.90</td>\n",
       "    </tr>\n",
       "    <tr>\n",
       "      <th>247</th>\n",
       "      <td>BANKNIFTY31DEC2031200PE</td>\n",
       "      <td>2020-12-30 09:29:00</td>\n",
       "      <td>221.70</td>\n",
       "      <td>2020-12-30 10:24:00</td>\n",
       "      <td>240.10</td>\n",
       "    </tr>\n",
       "    <tr>\n",
       "      <th>248</th>\n",
       "      <td>BANKNIFTY31DEC2031300CE</td>\n",
       "      <td>2020-12-31 09:29:00</td>\n",
       "      <td>161.80</td>\n",
       "      <td>2020-12-31 10:37:00</td>\n",
       "      <td>173.85</td>\n",
       "    </tr>\n",
       "    <tr>\n",
       "      <th>249</th>\n",
       "      <td>BANKNIFTY31DEC2031300PE</td>\n",
       "      <td>2020-12-31 09:29:00</td>\n",
       "      <td>105.05</td>\n",
       "      <td>2020-12-31 10:37:00</td>\n",
       "      <td>124.00</td>\n",
       "    </tr>\n",
       "  </tbody>\n",
       "</table>\n",
       "<p>249 rows × 5 columns</p>\n",
       "</div>"
      ],
      "text/plain": [
       "                      Ticker          Entry Time  Entry Price  \\\n",
       "1    BANKNIFTY09JUL2022800PE 2020-08-07 09:29:00       163.50   \n",
       "2    BANKNIFTY09JUL2022700CE 2020-09-07 09:29:00       162.50   \n",
       "3    BANKNIFTY09JUL2022700PE 2020-09-07 09:29:00       110.55   \n",
       "4    BANKNIFTY16JUL2022700CE 2020-10-07 09:29:00       295.10   \n",
       "5    BANKNIFTY16JUL2022700PE 2020-10-07 09:29:00       555.20   \n",
       "..                       ...                 ...          ...   \n",
       "245  BANKNIFTY31DEC2031300PE 2020-12-29 09:29:00       216.65   \n",
       "246  BANKNIFTY31DEC2031200CE 2020-12-30 09:29:00       248.25   \n",
       "247  BANKNIFTY31DEC2031200PE 2020-12-30 09:29:00       221.70   \n",
       "248  BANKNIFTY31DEC2031300CE 2020-12-31 09:29:00       161.80   \n",
       "249  BANKNIFTY31DEC2031300PE 2020-12-31 09:29:00       105.05   \n",
       "\n",
       "              Exit Time  Exit Price  \n",
       "1   2020-08-07 13:15:00      301.00  \n",
       "2   2020-09-07 10:34:00      166.75  \n",
       "3   2020-09-07 10:34:00      147.00  \n",
       "4   2020-10-07 15:24:00      437.55  \n",
       "5   2020-10-07 15:24:00      403.15  \n",
       "..                  ...         ...  \n",
       "245 2020-12-29 13:10:00      274.60  \n",
       "246 2020-12-30 10:24:00      283.90  \n",
       "247 2020-12-30 10:24:00      240.10  \n",
       "248 2020-12-31 10:37:00      173.85  \n",
       "249 2020-12-31 10:37:00      124.00  \n",
       "\n",
       "[249 rows x 5 columns]"
      ]
     },
     "execution_count": 5,
     "metadata": {},
     "output_type": "execute_result"
    }
   ],
   "source": [
    "df['Entry Time'] = pd.to_datetime(df['Entry Time'])\n",
    "df['Exit Time'] = pd.to_datetime(df['Exit Time'])\n",
    "df"
   ]
  },
  {
   "cell_type": "code",
   "execution_count": 6,
   "id": "40a12012",
   "metadata": {},
   "outputs": [
    {
     "data": {
      "text/html": [
       "<div>\n",
       "<style scoped>\n",
       "    .dataframe tbody tr th:only-of-type {\n",
       "        vertical-align: middle;\n",
       "    }\n",
       "\n",
       "    .dataframe tbody tr th {\n",
       "        vertical-align: top;\n",
       "    }\n",
       "\n",
       "    .dataframe thead th {\n",
       "        text-align: right;\n",
       "    }\n",
       "</style>\n",
       "<table border=\"1\" class=\"dataframe\">\n",
       "  <thead>\n",
       "    <tr style=\"text-align: right;\">\n",
       "      <th></th>\n",
       "      <th>Ticker</th>\n",
       "      <th>Entry Time</th>\n",
       "      <th>Entry Price</th>\n",
       "      <th>Exit Time</th>\n",
       "      <th>Exit Price</th>\n",
       "    </tr>\n",
       "  </thead>\n",
       "  <tbody>\n",
       "    <tr>\n",
       "      <th>0</th>\n",
       "      <td>BANKNIFTY03SEP2024100CE</td>\n",
       "      <td>2020-01-09 09:29:00</td>\n",
       "      <td>288.50</td>\n",
       "      <td>2020-01-09 09:57:00</td>\n",
       "      <td>440.70</td>\n",
       "    </tr>\n",
       "    <tr>\n",
       "      <th>1</th>\n",
       "      <td>BANKNIFTY03SEP2024100PE</td>\n",
       "      <td>2020-01-09 09:29:00</td>\n",
       "      <td>703.80</td>\n",
       "      <td>2020-01-09 09:57:00</td>\n",
       "      <td>450.10</td>\n",
       "    </tr>\n",
       "    <tr>\n",
       "      <th>2</th>\n",
       "      <td>BANKNIFTY01OCT2021900CE</td>\n",
       "      <td>2020-01-10 09:29:00</td>\n",
       "      <td>110.35</td>\n",
       "      <td>2020-01-10 10:01:00</td>\n",
       "      <td>114.55</td>\n",
       "    </tr>\n",
       "    <tr>\n",
       "      <th>3</th>\n",
       "      <td>BANKNIFTY01OCT2021900PE</td>\n",
       "      <td>2020-01-10 09:29:00</td>\n",
       "      <td>87.05</td>\n",
       "      <td>2020-01-10 10:01:00</td>\n",
       "      <td>118.65</td>\n",
       "    </tr>\n",
       "    <tr>\n",
       "      <th>4</th>\n",
       "      <td>BANKNIFTY03DEC2029600PE</td>\n",
       "      <td>2020-01-12 09:29:00</td>\n",
       "      <td>284.10</td>\n",
       "      <td>2020-01-12 13:08:00</td>\n",
       "      <td>428.75</td>\n",
       "    </tr>\n",
       "    <tr>\n",
       "      <th>...</th>\n",
       "      <td>...</td>\n",
       "      <td>...</td>\n",
       "      <td>...</td>\n",
       "      <td>...</td>\n",
       "      <td>...</td>\n",
       "    </tr>\n",
       "    <tr>\n",
       "      <th>244</th>\n",
       "      <td>BANKNIFTY31DEC2031300PE</td>\n",
       "      <td>2020-12-29 09:29:00</td>\n",
       "      <td>216.65</td>\n",
       "      <td>2020-12-29 13:10:00</td>\n",
       "      <td>274.60</td>\n",
       "    </tr>\n",
       "    <tr>\n",
       "      <th>245</th>\n",
       "      <td>BANKNIFTY31DEC2031200CE</td>\n",
       "      <td>2020-12-30 09:29:00</td>\n",
       "      <td>248.25</td>\n",
       "      <td>2020-12-30 10:24:00</td>\n",
       "      <td>283.90</td>\n",
       "    </tr>\n",
       "    <tr>\n",
       "      <th>246</th>\n",
       "      <td>BANKNIFTY31DEC2031200PE</td>\n",
       "      <td>2020-12-30 09:29:00</td>\n",
       "      <td>221.70</td>\n",
       "      <td>2020-12-30 10:24:00</td>\n",
       "      <td>240.10</td>\n",
       "    </tr>\n",
       "    <tr>\n",
       "      <th>247</th>\n",
       "      <td>BANKNIFTY31DEC2031300CE</td>\n",
       "      <td>2020-12-31 09:29:00</td>\n",
       "      <td>161.80</td>\n",
       "      <td>2020-12-31 10:37:00</td>\n",
       "      <td>173.85</td>\n",
       "    </tr>\n",
       "    <tr>\n",
       "      <th>248</th>\n",
       "      <td>BANKNIFTY31DEC2031300PE</td>\n",
       "      <td>2020-12-31 09:29:00</td>\n",
       "      <td>105.05</td>\n",
       "      <td>2020-12-31 10:37:00</td>\n",
       "      <td>124.00</td>\n",
       "    </tr>\n",
       "  </tbody>\n",
       "</table>\n",
       "<p>249 rows × 5 columns</p>\n",
       "</div>"
      ],
      "text/plain": [
       "                      Ticker          Entry Time  Entry Price  \\\n",
       "0    BANKNIFTY03SEP2024100CE 2020-01-09 09:29:00       288.50   \n",
       "1    BANKNIFTY03SEP2024100PE 2020-01-09 09:29:00       703.80   \n",
       "2    BANKNIFTY01OCT2021900CE 2020-01-10 09:29:00       110.35   \n",
       "3    BANKNIFTY01OCT2021900PE 2020-01-10 09:29:00        87.05   \n",
       "4    BANKNIFTY03DEC2029600PE 2020-01-12 09:29:00       284.10   \n",
       "..                       ...                 ...          ...   \n",
       "244  BANKNIFTY31DEC2031300PE 2020-12-29 09:29:00       216.65   \n",
       "245  BANKNIFTY31DEC2031200CE 2020-12-30 09:29:00       248.25   \n",
       "246  BANKNIFTY31DEC2031200PE 2020-12-30 09:29:00       221.70   \n",
       "247  BANKNIFTY31DEC2031300CE 2020-12-31 09:29:00       161.80   \n",
       "248  BANKNIFTY31DEC2031300PE 2020-12-31 09:29:00       105.05   \n",
       "\n",
       "              Exit Time  Exit Price  \n",
       "0   2020-01-09 09:57:00      440.70  \n",
       "1   2020-01-09 09:57:00      450.10  \n",
       "2   2020-01-10 10:01:00      114.55  \n",
       "3   2020-01-10 10:01:00      118.65  \n",
       "4   2020-01-12 13:08:00      428.75  \n",
       "..                  ...         ...  \n",
       "244 2020-12-29 13:10:00      274.60  \n",
       "245 2020-12-30 10:24:00      283.90  \n",
       "246 2020-12-30 10:24:00      240.10  \n",
       "247 2020-12-31 10:37:00      173.85  \n",
       "248 2020-12-31 10:37:00      124.00  \n",
       "\n",
       "[249 rows x 5 columns]"
      ]
     },
     "execution_count": 6,
     "metadata": {},
     "output_type": "execute_result"
    }
   ],
   "source": [
    "df = df.sort_values(by='Entry Time')\n",
    "df = df.reset_index(drop=True)\n",
    "df"
   ]
  },
  {
   "cell_type": "code",
   "execution_count": 7,
   "id": "2b9d804d",
   "metadata": {},
   "outputs": [
    {
     "data": {
      "text/html": [
       "<div>\n",
       "<style scoped>\n",
       "    .dataframe tbody tr th:only-of-type {\n",
       "        vertical-align: middle;\n",
       "    }\n",
       "\n",
       "    .dataframe tbody tr th {\n",
       "        vertical-align: top;\n",
       "    }\n",
       "\n",
       "    .dataframe thead th {\n",
       "        text-align: right;\n",
       "    }\n",
       "</style>\n",
       "<table border=\"1\" class=\"dataframe\">\n",
       "  <thead>\n",
       "    <tr style=\"text-align: right;\">\n",
       "      <th></th>\n",
       "      <th>Ticker</th>\n",
       "      <th>Entry Time</th>\n",
       "      <th>Entry Price</th>\n",
       "      <th>Exit Time</th>\n",
       "      <th>Exit Price</th>\n",
       "      <th>Return</th>\n",
       "    </tr>\n",
       "  </thead>\n",
       "  <tbody>\n",
       "    <tr>\n",
       "      <th>0</th>\n",
       "      <td>BANKNIFTY03SEP2024100CE</td>\n",
       "      <td>2020-01-09 09:29:00</td>\n",
       "      <td>288.50</td>\n",
       "      <td>2020-01-09 09:57:00</td>\n",
       "      <td>440.70</td>\n",
       "      <td>152.20</td>\n",
       "    </tr>\n",
       "    <tr>\n",
       "      <th>1</th>\n",
       "      <td>BANKNIFTY03SEP2024100PE</td>\n",
       "      <td>2020-01-09 09:29:00</td>\n",
       "      <td>703.80</td>\n",
       "      <td>2020-01-09 09:57:00</td>\n",
       "      <td>450.10</td>\n",
       "      <td>-253.70</td>\n",
       "    </tr>\n",
       "    <tr>\n",
       "      <th>2</th>\n",
       "      <td>BANKNIFTY01OCT2021900CE</td>\n",
       "      <td>2020-01-10 09:29:00</td>\n",
       "      <td>110.35</td>\n",
       "      <td>2020-01-10 10:01:00</td>\n",
       "      <td>114.55</td>\n",
       "      <td>4.20</td>\n",
       "    </tr>\n",
       "    <tr>\n",
       "      <th>3</th>\n",
       "      <td>BANKNIFTY01OCT2021900PE</td>\n",
       "      <td>2020-01-10 09:29:00</td>\n",
       "      <td>87.05</td>\n",
       "      <td>2020-01-10 10:01:00</td>\n",
       "      <td>118.65</td>\n",
       "      <td>31.60</td>\n",
       "    </tr>\n",
       "    <tr>\n",
       "      <th>4</th>\n",
       "      <td>BANKNIFTY03DEC2029600PE</td>\n",
       "      <td>2020-01-12 09:29:00</td>\n",
       "      <td>284.10</td>\n",
       "      <td>2020-01-12 13:08:00</td>\n",
       "      <td>428.75</td>\n",
       "      <td>144.65</td>\n",
       "    </tr>\n",
       "    <tr>\n",
       "      <th>...</th>\n",
       "      <td>...</td>\n",
       "      <td>...</td>\n",
       "      <td>...</td>\n",
       "      <td>...</td>\n",
       "      <td>...</td>\n",
       "      <td>...</td>\n",
       "    </tr>\n",
       "    <tr>\n",
       "      <th>244</th>\n",
       "      <td>BANKNIFTY31DEC2031300PE</td>\n",
       "      <td>2020-12-29 09:29:00</td>\n",
       "      <td>216.65</td>\n",
       "      <td>2020-12-29 13:10:00</td>\n",
       "      <td>274.60</td>\n",
       "      <td>57.95</td>\n",
       "    </tr>\n",
       "    <tr>\n",
       "      <th>245</th>\n",
       "      <td>BANKNIFTY31DEC2031200CE</td>\n",
       "      <td>2020-12-30 09:29:00</td>\n",
       "      <td>248.25</td>\n",
       "      <td>2020-12-30 10:24:00</td>\n",
       "      <td>283.90</td>\n",
       "      <td>35.65</td>\n",
       "    </tr>\n",
       "    <tr>\n",
       "      <th>246</th>\n",
       "      <td>BANKNIFTY31DEC2031200PE</td>\n",
       "      <td>2020-12-30 09:29:00</td>\n",
       "      <td>221.70</td>\n",
       "      <td>2020-12-30 10:24:00</td>\n",
       "      <td>240.10</td>\n",
       "      <td>18.40</td>\n",
       "    </tr>\n",
       "    <tr>\n",
       "      <th>247</th>\n",
       "      <td>BANKNIFTY31DEC2031300CE</td>\n",
       "      <td>2020-12-31 09:29:00</td>\n",
       "      <td>161.80</td>\n",
       "      <td>2020-12-31 10:37:00</td>\n",
       "      <td>173.85</td>\n",
       "      <td>12.05</td>\n",
       "    </tr>\n",
       "    <tr>\n",
       "      <th>248</th>\n",
       "      <td>BANKNIFTY31DEC2031300PE</td>\n",
       "      <td>2020-12-31 09:29:00</td>\n",
       "      <td>105.05</td>\n",
       "      <td>2020-12-31 10:37:00</td>\n",
       "      <td>124.00</td>\n",
       "      <td>18.95</td>\n",
       "    </tr>\n",
       "  </tbody>\n",
       "</table>\n",
       "<p>249 rows × 6 columns</p>\n",
       "</div>"
      ],
      "text/plain": [
       "                      Ticker          Entry Time  Entry Price  \\\n",
       "0    BANKNIFTY03SEP2024100CE 2020-01-09 09:29:00       288.50   \n",
       "1    BANKNIFTY03SEP2024100PE 2020-01-09 09:29:00       703.80   \n",
       "2    BANKNIFTY01OCT2021900CE 2020-01-10 09:29:00       110.35   \n",
       "3    BANKNIFTY01OCT2021900PE 2020-01-10 09:29:00        87.05   \n",
       "4    BANKNIFTY03DEC2029600PE 2020-01-12 09:29:00       284.10   \n",
       "..                       ...                 ...          ...   \n",
       "244  BANKNIFTY31DEC2031300PE 2020-12-29 09:29:00       216.65   \n",
       "245  BANKNIFTY31DEC2031200CE 2020-12-30 09:29:00       248.25   \n",
       "246  BANKNIFTY31DEC2031200PE 2020-12-30 09:29:00       221.70   \n",
       "247  BANKNIFTY31DEC2031300CE 2020-12-31 09:29:00       161.80   \n",
       "248  BANKNIFTY31DEC2031300PE 2020-12-31 09:29:00       105.05   \n",
       "\n",
       "              Exit Time  Exit Price  Return  \n",
       "0   2020-01-09 09:57:00      440.70  152.20  \n",
       "1   2020-01-09 09:57:00      450.10 -253.70  \n",
       "2   2020-01-10 10:01:00      114.55    4.20  \n",
       "3   2020-01-10 10:01:00      118.65   31.60  \n",
       "4   2020-01-12 13:08:00      428.75  144.65  \n",
       "..                  ...         ...     ...  \n",
       "244 2020-12-29 13:10:00      274.60   57.95  \n",
       "245 2020-12-30 10:24:00      283.90   35.65  \n",
       "246 2020-12-30 10:24:00      240.10   18.40  \n",
       "247 2020-12-31 10:37:00      173.85   12.05  \n",
       "248 2020-12-31 10:37:00      124.00   18.95  \n",
       "\n",
       "[249 rows x 6 columns]"
      ]
     },
     "execution_count": 7,
     "metadata": {},
     "output_type": "execute_result"
    }
   ],
   "source": [
    "df['Return'] = df['Exit Price'] - df['Entry Price']\n",
    "df"
   ]
  },
  {
   "cell_type": "code",
   "execution_count": 8,
   "id": "36638ba8",
   "metadata": {},
   "outputs": [],
   "source": [
    "list_of_price = list(df['Return'])"
   ]
  },
  {
   "cell_type": "code",
   "execution_count": 9,
   "id": "433bf7e0",
   "metadata": {},
   "outputs": [
    {
     "data": {
      "text/html": [
       "<div>\n",
       "<style scoped>\n",
       "    .dataframe tbody tr th:only-of-type {\n",
       "        vertical-align: middle;\n",
       "    }\n",
       "\n",
       "    .dataframe tbody tr th {\n",
       "        vertical-align: top;\n",
       "    }\n",
       "\n",
       "    .dataframe thead th {\n",
       "        text-align: right;\n",
       "    }\n",
       "</style>\n",
       "<table border=\"1\" class=\"dataframe\">\n",
       "  <thead>\n",
       "    <tr style=\"text-align: right;\">\n",
       "      <th></th>\n",
       "      <th>Ticker</th>\n",
       "      <th>Entry Time</th>\n",
       "      <th>Entry Price</th>\n",
       "      <th>Exit Time</th>\n",
       "      <th>Exit Price</th>\n",
       "      <th>Return</th>\n",
       "      <th>prt_return</th>\n",
       "    </tr>\n",
       "  </thead>\n",
       "  <tbody>\n",
       "    <tr>\n",
       "      <th>0</th>\n",
       "      <td>BANKNIFTY03SEP2024100CE</td>\n",
       "      <td>2020-01-09 09:29:00</td>\n",
       "      <td>288.50</td>\n",
       "      <td>2020-01-09 09:57:00</td>\n",
       "      <td>440.70</td>\n",
       "      <td>152.20</td>\n",
       "      <td>6652.20</td>\n",
       "    </tr>\n",
       "    <tr>\n",
       "      <th>1</th>\n",
       "      <td>BANKNIFTY03SEP2024100PE</td>\n",
       "      <td>2020-01-09 09:29:00</td>\n",
       "      <td>703.80</td>\n",
       "      <td>2020-01-09 09:57:00</td>\n",
       "      <td>450.10</td>\n",
       "      <td>-253.70</td>\n",
       "      <td>6398.50</td>\n",
       "    </tr>\n",
       "    <tr>\n",
       "      <th>2</th>\n",
       "      <td>BANKNIFTY01OCT2021900CE</td>\n",
       "      <td>2020-01-10 09:29:00</td>\n",
       "      <td>110.35</td>\n",
       "      <td>2020-01-10 10:01:00</td>\n",
       "      <td>114.55</td>\n",
       "      <td>4.20</td>\n",
       "      <td>6402.70</td>\n",
       "    </tr>\n",
       "    <tr>\n",
       "      <th>3</th>\n",
       "      <td>BANKNIFTY01OCT2021900PE</td>\n",
       "      <td>2020-01-10 09:29:00</td>\n",
       "      <td>87.05</td>\n",
       "      <td>2020-01-10 10:01:00</td>\n",
       "      <td>118.65</td>\n",
       "      <td>31.60</td>\n",
       "      <td>6434.30</td>\n",
       "    </tr>\n",
       "    <tr>\n",
       "      <th>4</th>\n",
       "      <td>BANKNIFTY03DEC2029600PE</td>\n",
       "      <td>2020-01-12 09:29:00</td>\n",
       "      <td>284.10</td>\n",
       "      <td>2020-01-12 13:08:00</td>\n",
       "      <td>428.75</td>\n",
       "      <td>144.65</td>\n",
       "      <td>6578.95</td>\n",
       "    </tr>\n",
       "    <tr>\n",
       "      <th>...</th>\n",
       "      <td>...</td>\n",
       "      <td>...</td>\n",
       "      <td>...</td>\n",
       "      <td>...</td>\n",
       "      <td>...</td>\n",
       "      <td>...</td>\n",
       "      <td>...</td>\n",
       "    </tr>\n",
       "    <tr>\n",
       "      <th>244</th>\n",
       "      <td>BANKNIFTY31DEC2031300PE</td>\n",
       "      <td>2020-12-29 09:29:00</td>\n",
       "      <td>216.65</td>\n",
       "      <td>2020-12-29 13:10:00</td>\n",
       "      <td>274.60</td>\n",
       "      <td>57.95</td>\n",
       "      <td>7925.35</td>\n",
       "    </tr>\n",
       "    <tr>\n",
       "      <th>245</th>\n",
       "      <td>BANKNIFTY31DEC2031200CE</td>\n",
       "      <td>2020-12-30 09:29:00</td>\n",
       "      <td>248.25</td>\n",
       "      <td>2020-12-30 10:24:00</td>\n",
       "      <td>283.90</td>\n",
       "      <td>35.65</td>\n",
       "      <td>7961.00</td>\n",
       "    </tr>\n",
       "    <tr>\n",
       "      <th>246</th>\n",
       "      <td>BANKNIFTY31DEC2031200PE</td>\n",
       "      <td>2020-12-30 09:29:00</td>\n",
       "      <td>221.70</td>\n",
       "      <td>2020-12-30 10:24:00</td>\n",
       "      <td>240.10</td>\n",
       "      <td>18.40</td>\n",
       "      <td>7979.40</td>\n",
       "    </tr>\n",
       "    <tr>\n",
       "      <th>247</th>\n",
       "      <td>BANKNIFTY31DEC2031300CE</td>\n",
       "      <td>2020-12-31 09:29:00</td>\n",
       "      <td>161.80</td>\n",
       "      <td>2020-12-31 10:37:00</td>\n",
       "      <td>173.85</td>\n",
       "      <td>12.05</td>\n",
       "      <td>7991.45</td>\n",
       "    </tr>\n",
       "    <tr>\n",
       "      <th>248</th>\n",
       "      <td>BANKNIFTY31DEC2031300PE</td>\n",
       "      <td>2020-12-31 09:29:00</td>\n",
       "      <td>105.05</td>\n",
       "      <td>2020-12-31 10:37:00</td>\n",
       "      <td>124.00</td>\n",
       "      <td>18.95</td>\n",
       "      <td>8010.40</td>\n",
       "    </tr>\n",
       "  </tbody>\n",
       "</table>\n",
       "<p>249 rows × 7 columns</p>\n",
       "</div>"
      ],
      "text/plain": [
       "                      Ticker          Entry Time  Entry Price  \\\n",
       "0    BANKNIFTY03SEP2024100CE 2020-01-09 09:29:00       288.50   \n",
       "1    BANKNIFTY03SEP2024100PE 2020-01-09 09:29:00       703.80   \n",
       "2    BANKNIFTY01OCT2021900CE 2020-01-10 09:29:00       110.35   \n",
       "3    BANKNIFTY01OCT2021900PE 2020-01-10 09:29:00        87.05   \n",
       "4    BANKNIFTY03DEC2029600PE 2020-01-12 09:29:00       284.10   \n",
       "..                       ...                 ...          ...   \n",
       "244  BANKNIFTY31DEC2031300PE 2020-12-29 09:29:00       216.65   \n",
       "245  BANKNIFTY31DEC2031200CE 2020-12-30 09:29:00       248.25   \n",
       "246  BANKNIFTY31DEC2031200PE 2020-12-30 09:29:00       221.70   \n",
       "247  BANKNIFTY31DEC2031300CE 2020-12-31 09:29:00       161.80   \n",
       "248  BANKNIFTY31DEC2031300PE 2020-12-31 09:29:00       105.05   \n",
       "\n",
       "              Exit Time  Exit Price  Return  prt_return  \n",
       "0   2020-01-09 09:57:00      440.70  152.20     6652.20  \n",
       "1   2020-01-09 09:57:00      450.10 -253.70     6398.50  \n",
       "2   2020-01-10 10:01:00      114.55    4.20     6402.70  \n",
       "3   2020-01-10 10:01:00      118.65   31.60     6434.30  \n",
       "4   2020-01-12 13:08:00      428.75  144.65     6578.95  \n",
       "..                  ...         ...     ...         ...  \n",
       "244 2020-12-29 13:10:00      274.60   57.95     7925.35  \n",
       "245 2020-12-30 10:24:00      283.90   35.65     7961.00  \n",
       "246 2020-12-30 10:24:00      240.10   18.40     7979.40  \n",
       "247 2020-12-31 10:37:00      173.85   12.05     7991.45  \n",
       "248 2020-12-31 10:37:00      124.00   18.95     8010.40  \n",
       "\n",
       "[249 rows x 7 columns]"
      ]
     },
     "execution_count": 9,
     "metadata": {},
     "output_type": "execute_result"
    }
   ],
   "source": [
    "initial = 6500\n",
    "new_list = []\n",
    "\n",
    "for i in list_of_price:\n",
    "    initial = initial + i\n",
    "    new_list.append(initial)\n",
    "    \n",
    "df['prt_return'] = new_list\n",
    "df"
   ]
  },
  {
   "cell_type": "markdown",
   "id": "1b1e866d",
   "metadata": {},
   "source": [
    "# 1. Total Trades"
   ]
  },
  {
   "cell_type": "code",
   "execution_count": 10,
   "id": "6bd81968",
   "metadata": {},
   "outputs": [
    {
     "name": "stdout",
     "output_type": "stream",
     "text": [
      "249\n"
     ]
    }
   ],
   "source": [
    "total_trades = df.shape[0]\n",
    "print(total_trades)"
   ]
  },
  {
   "cell_type": "markdown",
   "id": "9da7c0fe",
   "metadata": {},
   "source": [
    "# 2. Profitable Trades"
   ]
  },
  {
   "cell_type": "code",
   "execution_count": 11,
   "id": "7e34ec7a",
   "metadata": {},
   "outputs": [
    {
     "data": {
      "text/html": [
       "<div>\n",
       "<style scoped>\n",
       "    .dataframe tbody tr th:only-of-type {\n",
       "        vertical-align: middle;\n",
       "    }\n",
       "\n",
       "    .dataframe tbody tr th {\n",
       "        vertical-align: top;\n",
       "    }\n",
       "\n",
       "    .dataframe thead th {\n",
       "        text-align: right;\n",
       "    }\n",
       "</style>\n",
       "<table border=\"1\" class=\"dataframe\">\n",
       "  <thead>\n",
       "    <tr style=\"text-align: right;\">\n",
       "      <th></th>\n",
       "      <th>Ticker</th>\n",
       "      <th>Entry Time</th>\n",
       "      <th>Entry Price</th>\n",
       "      <th>Exit Time</th>\n",
       "      <th>Exit Price</th>\n",
       "      <th>Return</th>\n",
       "      <th>prt_return</th>\n",
       "    </tr>\n",
       "  </thead>\n",
       "  <tbody>\n",
       "    <tr>\n",
       "      <th>0</th>\n",
       "      <td>BANKNIFTY03SEP2024100CE</td>\n",
       "      <td>2020-01-09 09:29:00</td>\n",
       "      <td>288.50</td>\n",
       "      <td>2020-01-09 09:57:00</td>\n",
       "      <td>440.70</td>\n",
       "      <td>152.20</td>\n",
       "      <td>6652.20</td>\n",
       "    </tr>\n",
       "    <tr>\n",
       "      <th>2</th>\n",
       "      <td>BANKNIFTY01OCT2021900CE</td>\n",
       "      <td>2020-01-10 09:29:00</td>\n",
       "      <td>110.35</td>\n",
       "      <td>2020-01-10 10:01:00</td>\n",
       "      <td>114.55</td>\n",
       "      <td>4.20</td>\n",
       "      <td>6402.70</td>\n",
       "    </tr>\n",
       "    <tr>\n",
       "      <th>3</th>\n",
       "      <td>BANKNIFTY01OCT2021900PE</td>\n",
       "      <td>2020-01-10 09:29:00</td>\n",
       "      <td>87.05</td>\n",
       "      <td>2020-01-10 10:01:00</td>\n",
       "      <td>118.65</td>\n",
       "      <td>31.60</td>\n",
       "      <td>6434.30</td>\n",
       "    </tr>\n",
       "    <tr>\n",
       "      <th>4</th>\n",
       "      <td>BANKNIFTY03DEC2029600PE</td>\n",
       "      <td>2020-01-12 09:29:00</td>\n",
       "      <td>284.10</td>\n",
       "      <td>2020-01-12 13:08:00</td>\n",
       "      <td>428.75</td>\n",
       "      <td>144.65</td>\n",
       "      <td>6578.95</td>\n",
       "    </tr>\n",
       "    <tr>\n",
       "      <th>6</th>\n",
       "      <td>BANKNIFTY03SEP2023700CE</td>\n",
       "      <td>2020-02-09 09:29:00</td>\n",
       "      <td>238.00</td>\n",
       "      <td>2020-02-09 10:46:00</td>\n",
       "      <td>311.00</td>\n",
       "      <td>73.00</td>\n",
       "      <td>6601.20</td>\n",
       "    </tr>\n",
       "    <tr>\n",
       "      <th>...</th>\n",
       "      <td>...</td>\n",
       "      <td>...</td>\n",
       "      <td>...</td>\n",
       "      <td>...</td>\n",
       "      <td>...</td>\n",
       "      <td>...</td>\n",
       "      <td>...</td>\n",
       "    </tr>\n",
       "    <tr>\n",
       "      <th>244</th>\n",
       "      <td>BANKNIFTY31DEC2031300PE</td>\n",
       "      <td>2020-12-29 09:29:00</td>\n",
       "      <td>216.65</td>\n",
       "      <td>2020-12-29 13:10:00</td>\n",
       "      <td>274.60</td>\n",
       "      <td>57.95</td>\n",
       "      <td>7925.35</td>\n",
       "    </tr>\n",
       "    <tr>\n",
       "      <th>245</th>\n",
       "      <td>BANKNIFTY31DEC2031200CE</td>\n",
       "      <td>2020-12-30 09:29:00</td>\n",
       "      <td>248.25</td>\n",
       "      <td>2020-12-30 10:24:00</td>\n",
       "      <td>283.90</td>\n",
       "      <td>35.65</td>\n",
       "      <td>7961.00</td>\n",
       "    </tr>\n",
       "    <tr>\n",
       "      <th>246</th>\n",
       "      <td>BANKNIFTY31DEC2031200PE</td>\n",
       "      <td>2020-12-30 09:29:00</td>\n",
       "      <td>221.70</td>\n",
       "      <td>2020-12-30 10:24:00</td>\n",
       "      <td>240.10</td>\n",
       "      <td>18.40</td>\n",
       "      <td>7979.40</td>\n",
       "    </tr>\n",
       "    <tr>\n",
       "      <th>247</th>\n",
       "      <td>BANKNIFTY31DEC2031300CE</td>\n",
       "      <td>2020-12-31 09:29:00</td>\n",
       "      <td>161.80</td>\n",
       "      <td>2020-12-31 10:37:00</td>\n",
       "      <td>173.85</td>\n",
       "      <td>12.05</td>\n",
       "      <td>7991.45</td>\n",
       "    </tr>\n",
       "    <tr>\n",
       "      <th>248</th>\n",
       "      <td>BANKNIFTY31DEC2031300PE</td>\n",
       "      <td>2020-12-31 09:29:00</td>\n",
       "      <td>105.05</td>\n",
       "      <td>2020-12-31 10:37:00</td>\n",
       "      <td>124.00</td>\n",
       "      <td>18.95</td>\n",
       "      <td>8010.40</td>\n",
       "    </tr>\n",
       "  </tbody>\n",
       "</table>\n",
       "<p>153 rows × 7 columns</p>\n",
       "</div>"
      ],
      "text/plain": [
       "                      Ticker          Entry Time  Entry Price  \\\n",
       "0    BANKNIFTY03SEP2024100CE 2020-01-09 09:29:00       288.50   \n",
       "2    BANKNIFTY01OCT2021900CE 2020-01-10 09:29:00       110.35   \n",
       "3    BANKNIFTY01OCT2021900PE 2020-01-10 09:29:00        87.05   \n",
       "4    BANKNIFTY03DEC2029600PE 2020-01-12 09:29:00       284.10   \n",
       "6    BANKNIFTY03SEP2023700CE 2020-02-09 09:29:00       238.00   \n",
       "..                       ...                 ...          ...   \n",
       "244  BANKNIFTY31DEC2031300PE 2020-12-29 09:29:00       216.65   \n",
       "245  BANKNIFTY31DEC2031200CE 2020-12-30 09:29:00       248.25   \n",
       "246  BANKNIFTY31DEC2031200PE 2020-12-30 09:29:00       221.70   \n",
       "247  BANKNIFTY31DEC2031300CE 2020-12-31 09:29:00       161.80   \n",
       "248  BANKNIFTY31DEC2031300PE 2020-12-31 09:29:00       105.05   \n",
       "\n",
       "              Exit Time  Exit Price  Return  prt_return  \n",
       "0   2020-01-09 09:57:00      440.70  152.20     6652.20  \n",
       "2   2020-01-10 10:01:00      114.55    4.20     6402.70  \n",
       "3   2020-01-10 10:01:00      118.65   31.60     6434.30  \n",
       "4   2020-01-12 13:08:00      428.75  144.65     6578.95  \n",
       "6   2020-02-09 10:46:00      311.00   73.00     6601.20  \n",
       "..                  ...         ...     ...         ...  \n",
       "244 2020-12-29 13:10:00      274.60   57.95     7925.35  \n",
       "245 2020-12-30 10:24:00      283.90   35.65     7961.00  \n",
       "246 2020-12-30 10:24:00      240.10   18.40     7979.40  \n",
       "247 2020-12-31 10:37:00      173.85   12.05     7991.45  \n",
       "248 2020-12-31 10:37:00      124.00   18.95     8010.40  \n",
       "\n",
       "[153 rows x 7 columns]"
      ]
     },
     "execution_count": 11,
     "metadata": {},
     "output_type": "execute_result"
    }
   ],
   "source": [
    "df_profit = df[df['Return']>0]\n",
    "df_profit"
   ]
  },
  {
   "cell_type": "code",
   "execution_count": 12,
   "id": "af60c277",
   "metadata": {},
   "outputs": [
    {
     "name": "stdout",
     "output_type": "stream",
     "text": [
      "153\n"
     ]
    }
   ],
   "source": [
    "profitable_trade = df_profit.shape[0]\n",
    "print(profitable_trade)"
   ]
  },
  {
   "cell_type": "markdown",
   "id": "dd399beb",
   "metadata": {},
   "source": [
    "# 3. Loss-Making Trades"
   ]
  },
  {
   "cell_type": "code",
   "execution_count": 13,
   "id": "01d5bf68",
   "metadata": {},
   "outputs": [
    {
     "data": {
      "text/html": [
       "<div>\n",
       "<style scoped>\n",
       "    .dataframe tbody tr th:only-of-type {\n",
       "        vertical-align: middle;\n",
       "    }\n",
       "\n",
       "    .dataframe tbody tr th {\n",
       "        vertical-align: top;\n",
       "    }\n",
       "\n",
       "    .dataframe thead th {\n",
       "        text-align: right;\n",
       "    }\n",
       "</style>\n",
       "<table border=\"1\" class=\"dataframe\">\n",
       "  <thead>\n",
       "    <tr style=\"text-align: right;\">\n",
       "      <th></th>\n",
       "      <th>Ticker</th>\n",
       "      <th>Entry Time</th>\n",
       "      <th>Entry Price</th>\n",
       "      <th>Exit Time</th>\n",
       "      <th>Exit Price</th>\n",
       "      <th>Return</th>\n",
       "      <th>prt_return</th>\n",
       "    </tr>\n",
       "  </thead>\n",
       "  <tbody>\n",
       "    <tr>\n",
       "      <th>1</th>\n",
       "      <td>BANKNIFTY03SEP2024100PE</td>\n",
       "      <td>2020-01-09 09:29:00</td>\n",
       "      <td>703.80</td>\n",
       "      <td>2020-01-09 09:57:00</td>\n",
       "      <td>450.10</td>\n",
       "      <td>-253.70</td>\n",
       "      <td>6398.50</td>\n",
       "    </tr>\n",
       "    <tr>\n",
       "      <th>5</th>\n",
       "      <td>BANKNIFTY03DEC2029600CE</td>\n",
       "      <td>2020-01-12 09:29:00</td>\n",
       "      <td>459.20</td>\n",
       "      <td>2020-01-12 13:08:00</td>\n",
       "      <td>408.45</td>\n",
       "      <td>-50.75</td>\n",
       "      <td>6528.20</td>\n",
       "    </tr>\n",
       "    <tr>\n",
       "      <th>7</th>\n",
       "      <td>BANKNIFTY03SEP2023700PE</td>\n",
       "      <td>2020-02-09 09:29:00</td>\n",
       "      <td>302.25</td>\n",
       "      <td>2020-02-09 10:46:00</td>\n",
       "      <td>290.25</td>\n",
       "      <td>-12.00</td>\n",
       "      <td>6589.20</td>\n",
       "    </tr>\n",
       "    <tr>\n",
       "      <th>9</th>\n",
       "      <td>BANKNIFTY05NOV2024200CE</td>\n",
       "      <td>2020-02-11 09:29:00</td>\n",
       "      <td>697.55</td>\n",
       "      <td>2020-02-11 11:19:00</td>\n",
       "      <td>442.65</td>\n",
       "      <td>-254.90</td>\n",
       "      <td>6492.85</td>\n",
       "    </tr>\n",
       "    <tr>\n",
       "      <th>12</th>\n",
       "      <td>BANKNIFTY06AUG2021400PE</td>\n",
       "      <td>2020-03-08 09:29:00</td>\n",
       "      <td>463.15</td>\n",
       "      <td>2020-03-08 15:24:00</td>\n",
       "      <td>380.35</td>\n",
       "      <td>-82.80</td>\n",
       "      <td>6474.20</td>\n",
       "    </tr>\n",
       "    <tr>\n",
       "      <th>...</th>\n",
       "      <td>...</td>\n",
       "      <td>...</td>\n",
       "      <td>...</td>\n",
       "      <td>...</td>\n",
       "      <td>...</td>\n",
       "      <td>...</td>\n",
       "      <td>...</td>\n",
       "    </tr>\n",
       "    <tr>\n",
       "      <th>234</th>\n",
       "      <td>BANKNIFTY24DEC2030300PE</td>\n",
       "      <td>2020-12-21 09:29:00</td>\n",
       "      <td>498.35</td>\n",
       "      <td>2020-12-21 13:37:00</td>\n",
       "      <td>309.05</td>\n",
       "      <td>-189.30</td>\n",
       "      <td>7702.95</td>\n",
       "    </tr>\n",
       "    <tr>\n",
       "      <th>237</th>\n",
       "      <td>BANKNIFTY24DEC2029600CE</td>\n",
       "      <td>2020-12-23 09:29:00</td>\n",
       "      <td>306.85</td>\n",
       "      <td>2020-12-23 14:13:00</td>\n",
       "      <td>218.15</td>\n",
       "      <td>-88.70</td>\n",
       "      <td>7697.10</td>\n",
       "    </tr>\n",
       "    <tr>\n",
       "      <th>240</th>\n",
       "      <td>BANKNIFTY24DEC2030200CE</td>\n",
       "      <td>2020-12-24 09:29:00</td>\n",
       "      <td>254.10</td>\n",
       "      <td>2020-12-24 10:15:00</td>\n",
       "      <td>139.45</td>\n",
       "      <td>-114.65</td>\n",
       "      <td>7801.80</td>\n",
       "    </tr>\n",
       "    <tr>\n",
       "      <th>241</th>\n",
       "      <td>BANKNIFTY31DEC2030800CE</td>\n",
       "      <td>2020-12-28 09:29:00</td>\n",
       "      <td>348.15</td>\n",
       "      <td>2020-12-28 13:43:00</td>\n",
       "      <td>328.80</td>\n",
       "      <td>-19.35</td>\n",
       "      <td>7782.45</td>\n",
       "    </tr>\n",
       "    <tr>\n",
       "      <th>243</th>\n",
       "      <td>BANKNIFTY31DEC2031300CE</td>\n",
       "      <td>2020-12-29 09:29:00</td>\n",
       "      <td>274.75</td>\n",
       "      <td>2020-12-29 13:10:00</td>\n",
       "      <td>272.15</td>\n",
       "      <td>-2.60</td>\n",
       "      <td>7867.40</td>\n",
       "    </tr>\n",
       "  </tbody>\n",
       "</table>\n",
       "<p>96 rows × 7 columns</p>\n",
       "</div>"
      ],
      "text/plain": [
       "                      Ticker          Entry Time  Entry Price  \\\n",
       "1    BANKNIFTY03SEP2024100PE 2020-01-09 09:29:00       703.80   \n",
       "5    BANKNIFTY03DEC2029600CE 2020-01-12 09:29:00       459.20   \n",
       "7    BANKNIFTY03SEP2023700PE 2020-02-09 09:29:00       302.25   \n",
       "9    BANKNIFTY05NOV2024200CE 2020-02-11 09:29:00       697.55   \n",
       "12   BANKNIFTY06AUG2021400PE 2020-03-08 09:29:00       463.15   \n",
       "..                       ...                 ...          ...   \n",
       "234  BANKNIFTY24DEC2030300PE 2020-12-21 09:29:00       498.35   \n",
       "237  BANKNIFTY24DEC2029600CE 2020-12-23 09:29:00       306.85   \n",
       "240  BANKNIFTY24DEC2030200CE 2020-12-24 09:29:00       254.10   \n",
       "241  BANKNIFTY31DEC2030800CE 2020-12-28 09:29:00       348.15   \n",
       "243  BANKNIFTY31DEC2031300CE 2020-12-29 09:29:00       274.75   \n",
       "\n",
       "              Exit Time  Exit Price  Return  prt_return  \n",
       "1   2020-01-09 09:57:00      450.10 -253.70     6398.50  \n",
       "5   2020-01-12 13:08:00      408.45  -50.75     6528.20  \n",
       "7   2020-02-09 10:46:00      290.25  -12.00     6589.20  \n",
       "9   2020-02-11 11:19:00      442.65 -254.90     6492.85  \n",
       "12  2020-03-08 15:24:00      380.35  -82.80     6474.20  \n",
       "..                  ...         ...     ...         ...  \n",
       "234 2020-12-21 13:37:00      309.05 -189.30     7702.95  \n",
       "237 2020-12-23 14:13:00      218.15  -88.70     7697.10  \n",
       "240 2020-12-24 10:15:00      139.45 -114.65     7801.80  \n",
       "241 2020-12-28 13:43:00      328.80  -19.35     7782.45  \n",
       "243 2020-12-29 13:10:00      272.15   -2.60     7867.40  \n",
       "\n",
       "[96 rows x 7 columns]"
      ]
     },
     "execution_count": 13,
     "metadata": {},
     "output_type": "execute_result"
    }
   ],
   "source": [
    "df_loss = df[df['Return']<0]\n",
    "df_loss"
   ]
  },
  {
   "cell_type": "code",
   "execution_count": 14,
   "id": "f94a4338",
   "metadata": {},
   "outputs": [
    {
     "name": "stdout",
     "output_type": "stream",
     "text": [
      "96\n"
     ]
    }
   ],
   "source": [
    "loss_making_trade = df_loss.shape[0]\n",
    "print(loss_making_trade)"
   ]
  },
  {
   "cell_type": "markdown",
   "id": "f9c2ff06",
   "metadata": {},
   "source": [
    "# 4. Win rate"
   ]
  },
  {
   "cell_type": "code",
   "execution_count": 15,
   "id": "5d54268f",
   "metadata": {},
   "outputs": [
    {
     "name": "stdout",
     "output_type": "stream",
     "text": [
      "0.6144578313253012\n"
     ]
    }
   ],
   "source": [
    "Win_rate = profitable_trade/total_trades \n",
    "print(Win_rate)"
   ]
  },
  {
   "cell_type": "markdown",
   "id": "f761af3e",
   "metadata": {},
   "source": [
    "# 5. Average Profit per trade"
   ]
  },
  {
   "cell_type": "code",
   "execution_count": 16,
   "id": "ba78e85c",
   "metadata": {},
   "outputs": [
    {
     "name": "stdout",
     "output_type": "stream",
     "text": [
      "76.09542483660131\n"
     ]
    }
   ],
   "source": [
    "profits = df_profit['Return'].sum()\n",
    "Average_profit = profits/profitable_trade\n",
    "print(Average_profit)"
   ]
  },
  {
   "cell_type": "markdown",
   "id": "6b5833fc",
   "metadata": {},
   "source": [
    "# 6. Average Loss per trade"
   ]
  },
  {
   "cell_type": "code",
   "execution_count": 17,
   "id": "7a475618",
   "metadata": {},
   "outputs": [
    {
     "name": "stdout",
     "output_type": "stream",
     "text": [
      "-105.54375\n"
     ]
    }
   ],
   "source": [
    "loss = df_loss['Return'].sum()\n",
    "Average_loss = loss/loss_making_trade\n",
    "print(Average_loss)"
   ]
  },
  {
   "cell_type": "markdown",
   "id": "44ee8bca",
   "metadata": {},
   "source": [
    "# 7. Risk Reward ratio"
   ]
  },
  {
   "cell_type": "code",
   "execution_count": 18,
   "id": "6bfed602",
   "metadata": {},
   "outputs": [
    {
     "name": "stdout",
     "output_type": "stream",
     "text": [
      "-0.720984661210174\n"
     ]
    }
   ],
   "source": [
    "Risk_reward = Average_profit/Average_loss\n",
    "print(Risk_reward)"
   ]
  },
  {
   "cell_type": "markdown",
   "id": "df91bcaf",
   "metadata": {},
   "source": [
    "# 8. Expectancy"
   ]
  },
  {
   "cell_type": "code",
   "execution_count": 19,
   "id": "cf30d20a",
   "metadata": {},
   "outputs": [
    {
     "name": "stdout",
     "output_type": "stream",
     "text": [
      "87.44899598393575\n"
     ]
    }
   ],
   "source": [
    "expectancy = (Win_rate * Average_profit) - ((1-Win_rate) * Average_loss)\n",
    "print(expectancy)"
   ]
  },
  {
   "cell_type": "markdown",
   "id": "a6366dd2",
   "metadata": {},
   "source": [
    "# 9. Average ROR per trade"
   ]
  },
  {
   "cell_type": "code",
   "execution_count": 20,
   "id": "65ab7637",
   "metadata": {},
   "outputs": [
    {
     "name": "stdout",
     "output_type": "stream",
     "text": [
      "113.06325065442704\n"
     ]
    }
   ],
   "source": [
    "import statistics\n",
    "\n",
    "volatality = statistics.stdev(df['Return'])\n",
    "\n",
    "print(volatality)"
   ]
  },
  {
   "cell_type": "code",
   "execution_count": 21,
   "id": "c7a84a0d",
   "metadata": {},
   "outputs": [
    {
     "name": "stdout",
     "output_type": "stream",
     "text": [
      "6.06586345381526\n"
     ]
    }
   ],
   "source": [
    "Average_Return = df['Return'].sum() / total_trades\n",
    "print(Average_Return)"
   ]
  },
  {
   "cell_type": "code",
   "execution_count": 22,
   "id": "66868331",
   "metadata": {},
   "outputs": [
    {
     "name": "stdout",
     "output_type": "stream",
     "text": [
      "0.05320794704729027\n"
     ]
    }
   ],
   "source": [
    "risk_free_rate = 0.05 #given\n",
    "ror = (Average_Return - risk_free_rate) /volatality\n",
    "print(ror)"
   ]
  },
  {
   "cell_type": "markdown",
   "id": "6397bf3e",
   "metadata": {},
   "source": [
    "# 10. Sharpe Ratio:"
   ]
  },
  {
   "cell_type": "code",
   "execution_count": 23,
   "id": "f0d8b171",
   "metadata": {},
   "outputs": [
    {
     "name": "stdout",
     "output_type": "stream",
     "text": [
      "1510.3999999999999\n"
     ]
    }
   ],
   "source": [
    "Return_total = df['Return'].sum()\n",
    "print(Return_total)"
   ]
  },
  {
   "cell_type": "code",
   "execution_count": 24,
   "id": "ea51eb08",
   "metadata": {},
   "outputs": [
    {
     "name": "stdout",
     "output_type": "stream",
     "text": [
      "8010.4\n"
     ]
    }
   ],
   "source": [
    "initial_return = 6500 #given\n",
    "final_return = initial_return + Return_total\n",
    "print(final_return)"
   ]
  },
  {
   "cell_type": "code",
   "execution_count": 25,
   "id": "608c6786",
   "metadata": {},
   "outputs": [
    {
     "name": "stdout",
     "output_type": "stream",
     "text": [
      "0.23236923076923072\n"
     ]
    }
   ],
   "source": [
    "rate_of_return = ((final_return - initial_return)/initial_return)\n",
    "print(rate_of_return)"
   ]
  },
  {
   "cell_type": "code",
   "execution_count": 26,
   "id": "9e73f748",
   "metadata": {},
   "outputs": [
    {
     "name": "stdout",
     "output_type": "stream",
     "text": [
      "0.0016129841457206502\n"
     ]
    }
   ],
   "source": [
    "sharpe_ratio = (rate_of_return - risk_free_rate)/volatality\n",
    "print(sharpe_ratio)"
   ]
  },
  {
   "cell_type": "markdown",
   "id": "442a6608",
   "metadata": {},
   "source": [
    "# 11. Max Drawdown:"
   ]
  },
  {
   "cell_type": "code",
   "execution_count": 27,
   "id": "fbd6418b",
   "metadata": {},
   "outputs": [
    {
     "name": "stdout",
     "output_type": "stream",
     "text": [
      "1618.4499999999962\n"
     ]
    }
   ],
   "source": [
    "max_drawdown = df['prt_return'].max() - df['prt_return'].min()\n",
    "print(max_drawdown)"
   ]
  },
  {
   "cell_type": "markdown",
   "id": "2d202e77",
   "metadata": {},
   "source": [
    "# 12. Max Drawdown Percentage"
   ]
  },
  {
   "cell_type": "code",
   "execution_count": 28,
   "id": "0811ab7e",
   "metadata": {},
   "outputs": [
    {
     "name": "stdout",
     "output_type": "stream",
     "text": [
      "20.187851988599117\n"
     ]
    }
   ],
   "source": [
    "peak = df['prt_return'].max()\n",
    "\n",
    "max_drawdown_per = (max_drawdown / peak) * 100\n",
    "print(max_drawdown_per)"
   ]
  },
  {
   "cell_type": "markdown",
   "id": "0be0b9ee",
   "metadata": {},
   "source": [
    "# 13. CAGR"
   ]
  },
  {
   "cell_type": "code",
   "execution_count": 29,
   "id": "00d547cb",
   "metadata": {},
   "outputs": [
    {
     "name": "stdout",
     "output_type": "stream",
     "text": [
      "357\n"
     ]
    }
   ],
   "source": [
    "Total_days = (df['Exit Time'].max() - df['Exit Time'].min()).days\n",
    "print(Total_days)"
   ]
  },
  {
   "cell_type": "code",
   "execution_count": 30,
   "id": "992bc42b",
   "metadata": {},
   "outputs": [
    {
     "name": "stdout",
     "output_type": "stream",
     "text": [
      "8010.399999999994\n"
     ]
    }
   ],
   "source": [
    "final_return = df.iloc[248,6] # last day return\n",
    "print(final_return)"
   ]
  },
  {
   "cell_type": "code",
   "execution_count": 31,
   "id": "0f02bd40",
   "metadata": {},
   "outputs": [
    {
     "name": "stdout",
     "output_type": "stream",
     "text": [
      "0.0005854332614114721\n"
     ]
    }
   ],
   "source": [
    "cagr = ((final_return / initial_return) ** (1/Total_days)) - 1\n",
    "print(cagr)"
   ]
  },
  {
   "cell_type": "markdown",
   "id": "53444634",
   "metadata": {},
   "source": [
    "# 14. Calmar Ratio"
   ]
  },
  {
   "cell_type": "code",
   "execution_count": 32,
   "id": "922e62bb",
   "metadata": {},
   "outputs": [
    {
     "name": "stdout",
     "output_type": "stream",
     "text": [
      "0.23236923076922977\n"
     ]
    }
   ],
   "source": [
    "Compound_annual_return = ((final_return / initial_return) ** (1/1)) - 1 # year = 2020\n",
    "print(Compound_annual_return)"
   ]
  },
  {
   "cell_type": "code",
   "execution_count": 33,
   "id": "10d15b7a",
   "metadata": {},
   "outputs": [
    {
     "name": "stdout",
     "output_type": "stream",
     "text": [
      "0.0001435751680739166\n"
     ]
    }
   ],
   "source": [
    "calmer_ratio = Compound_annual_return / max_drawdown\n",
    "print(calmer_ratio)"
   ]
  },
  {
   "cell_type": "code",
   "execution_count": 34,
   "id": "dbf7ac37",
   "metadata": {},
   "outputs": [
    {
     "data": {
      "text/html": [
       "<div>\n",
       "<style scoped>\n",
       "    .dataframe tbody tr th:only-of-type {\n",
       "        vertical-align: middle;\n",
       "    }\n",
       "\n",
       "    .dataframe tbody tr th {\n",
       "        vertical-align: top;\n",
       "    }\n",
       "\n",
       "    .dataframe thead th {\n",
       "        text-align: right;\n",
       "    }\n",
       "</style>\n",
       "<table border=\"1\" class=\"dataframe\">\n",
       "  <thead>\n",
       "    <tr style=\"text-align: right;\">\n",
       "      <th></th>\n",
       "      <th>parameter</th>\n",
       "      <th>values</th>\n",
       "    </tr>\n",
       "  </thead>\n",
       "  <tbody>\n",
       "    <tr>\n",
       "      <th>0</th>\n",
       "      <td>Total Trades</td>\n",
       "      <td>249.000000</td>\n",
       "    </tr>\n",
       "    <tr>\n",
       "      <th>1</th>\n",
       "      <td>Profitable Trades</td>\n",
       "      <td>153.000000</td>\n",
       "    </tr>\n",
       "    <tr>\n",
       "      <th>2</th>\n",
       "      <td>Loss-Making Trades</td>\n",
       "      <td>96.000000</td>\n",
       "    </tr>\n",
       "    <tr>\n",
       "      <th>3</th>\n",
       "      <td>Win rate</td>\n",
       "      <td>0.614458</td>\n",
       "    </tr>\n",
       "    <tr>\n",
       "      <th>4</th>\n",
       "      <td>Average Profit per trade</td>\n",
       "      <td>76.095425</td>\n",
       "    </tr>\n",
       "    <tr>\n",
       "      <th>5</th>\n",
       "      <td>Average Loss per trade</td>\n",
       "      <td>-105.543750</td>\n",
       "    </tr>\n",
       "    <tr>\n",
       "      <th>6</th>\n",
       "      <td>Risk Reward ratio</td>\n",
       "      <td>-0.720985</td>\n",
       "    </tr>\n",
       "    <tr>\n",
       "      <th>7</th>\n",
       "      <td>Expectancy</td>\n",
       "      <td>87.448996</td>\n",
       "    </tr>\n",
       "    <tr>\n",
       "      <th>8</th>\n",
       "      <td>Average ROR per trade</td>\n",
       "      <td>0.053208</td>\n",
       "    </tr>\n",
       "    <tr>\n",
       "      <th>9</th>\n",
       "      <td>Sharpe Ratio</td>\n",
       "      <td>0.001613</td>\n",
       "    </tr>\n",
       "    <tr>\n",
       "      <th>10</th>\n",
       "      <td>Max Drawdown</td>\n",
       "      <td>1618.450000</td>\n",
       "    </tr>\n",
       "    <tr>\n",
       "      <th>11</th>\n",
       "      <td>Max Drawdown Percentage</td>\n",
       "      <td>20.187852</td>\n",
       "    </tr>\n",
       "    <tr>\n",
       "      <th>12</th>\n",
       "      <td>CAGR</td>\n",
       "      <td>0.000585</td>\n",
       "    </tr>\n",
       "    <tr>\n",
       "      <th>13</th>\n",
       "      <td>Calmar Ratio</td>\n",
       "      <td>0.000144</td>\n",
       "    </tr>\n",
       "  </tbody>\n",
       "</table>\n",
       "</div>"
      ],
      "text/plain": [
       "                   parameter       values\n",
       "0               Total Trades   249.000000\n",
       "1          Profitable Trades   153.000000\n",
       "2         Loss-Making Trades    96.000000\n",
       "3                   Win rate     0.614458\n",
       "4   Average Profit per trade    76.095425\n",
       "5     Average Loss per trade  -105.543750\n",
       "6          Risk Reward ratio    -0.720985\n",
       "7                 Expectancy    87.448996\n",
       "8      Average ROR per trade     0.053208\n",
       "9               Sharpe Ratio     0.001613\n",
       "10              Max Drawdown  1618.450000\n",
       "11   Max Drawdown Percentage    20.187852\n",
       "12                      CAGR     0.000585\n",
       "13              Calmar Ratio     0.000144"
      ]
     },
     "execution_count": 34,
     "metadata": {},
     "output_type": "execute_result"
    }
   ],
   "source": [
    "dict_final = {\n",
    "    'Total Trades' : total_trades,\n",
    "    'Profitable Trades' : profitable_trade,\n",
    "    'Loss-Making Trades' : loss_making_trade,\n",
    "    'Win rate' : Win_rate,\n",
    "    'Average Profit per trade' : Average_profit,\n",
    "    'Average Loss per trade' : Average_loss,\n",
    "    'Risk Reward ratio' : Risk_reward,\n",
    "    'Expectancy' : expectancy,\n",
    "    'Average ROR per trade' : ror,\n",
    "    'Sharpe Ratio' : sharpe_ratio,\n",
    "    'Max Drawdown' : max_drawdown,\n",
    "    'Max Drawdown Percentage' : max_drawdown_per,\n",
    "    'CAGR' : cagr,\n",
    "    'Calmar Ratio' : calmer_ratio\n",
    "}\n",
    "\n",
    "df_final = pd.DataFrame(list(dict_final.keys()), columns=['parameter'])\n",
    "df_final['values'] = dict_final.values()\n",
    "df_final"
   ]
  },
  {
   "cell_type": "code",
   "execution_count": 35,
   "id": "00967bf1",
   "metadata": {},
   "outputs": [],
   "source": [
    "df_final.to_csv('Hricha_task1.csv',index=False)"
   ]
  }
 ],
 "metadata": {
  "kernelspec": {
   "display_name": "Python 3 (ipykernel)",
   "language": "python",
   "name": "python3"
  },
  "language_info": {
   "codemirror_mode": {
    "name": "ipython",
    "version": 3
   },
   "file_extension": ".py",
   "mimetype": "text/x-python",
   "name": "python",
   "nbconvert_exporter": "python",
   "pygments_lexer": "ipython3",
   "version": "3.9.16"
  }
 },
 "nbformat": 4,
 "nbformat_minor": 5
}
